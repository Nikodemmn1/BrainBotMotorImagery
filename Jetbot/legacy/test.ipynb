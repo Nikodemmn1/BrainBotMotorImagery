{
 "cells": [
  {
   "cell_type": "code",
   "execution_count": null,
   "metadata": {
    "collapsed": true,
    "pycharm": {
     "name": "#%%\n"
    }
   },
   "outputs": [],
   "source": []
  },
  {
   "cell_type": "code",
   "execution_count": 4,
   "outputs": [
    {
     "name": "stderr",
     "output_type": "stream",
     "text": [
      "Lightning automatically upgraded your loaded checkpoint from v1.8.6 to v1.9.0. To apply the upgrade to your files permanently, run `python -m pytorch_lightning.utilities.upgrade_checkpoint --file ../Modele/All/Multi/model.ckpt`\n"
     ]
    }
   ],
   "source": [
    "from Models.OneDNet import OneDNet\n",
    "from Models.OneDNetEnsembleInception import OneDNetEnsemble\n",
    "import torch\n",
    "\n",
    "\n",
    "\n",
    "model = OneDNet.load_from_checkpoint(checkpoint_path=\"../Modele/All/Multi/model.ckpt\", included_classes=[0, 1, 2],\n",
    "                                     channel_count=3)\n",
    "\n",
    "\n",
    "model.eval()\n",
    "torch.save(model, \"../Modele/Proc/multi.pt\")"
   ],
   "metadata": {
    "collapsed": false,
    "pycharm": {
     "name": "#%%\n"
    }
   }
  },
  {
   "cell_type": "code",
   "execution_count": null,
   "outputs": [],
   "source": [],
   "metadata": {
    "collapsed": false,
    "pycharm": {
     "name": "#%%\n"
    }
   }
  }
 ],
 "metadata": {
  "kernelspec": {
   "display_name": "Python 3",
   "language": "python",
   "name": "python3"
  },
  "language_info": {
   "codemirror_mode": {
    "name": "ipython",
    "version": 2
   },
   "file_extension": ".py",
   "mimetype": "text/x-python",
   "name": "python",
   "nbconvert_exporter": "python",
   "pygments_lexer": "ipython2",
   "version": "2.7.6"
  }
 },
 "nbformat": 4,
 "nbformat_minor": 0
}